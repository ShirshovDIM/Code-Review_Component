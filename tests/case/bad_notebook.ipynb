{
 "cells": [
  {
   "cell_type": "code",
   "execution_count": 1,
   "id": "abc123",
   "metadata": {},
   "outputs": [],
   "source": [
    "import os,sys\n",
    "import math\n",
    "def  testfunc(a,b,c):return a+b*(c-4)+math.sqrt(a)\n",
    "    x = 12 ;\n",
    "    y= 3 ;\n",
    "    z= 8\n",
    "    if(x>y):\n",
    "        print ('x > y')\n",
    "    else: print ('x <= y')\n",
    "        if  x!=z :\n",
    "            print('x!=z')\n",
    "def anotherfunc(val1,Val2):return val1+Val2\n",
    "class myclass:\n",
    "    def __init__(self,arg1,arg2):\n",
    "        self.arg1=arg1;\n",
    "        self.arg2=arg2\n",
    "    def display(self):\n",
    "        print( 'Values', self.arg1 ,self.arg2 )\n",
    "obj = myclass(1,2) ;\n",
    "obj.display() \n"
   ]
  }
 ],
 "metadata": {
  "kernelspec": {
   "display_name": "Python 3 (ipykernel)",
   "language": "python",
   "name": "python3"
  },
  "language_info": {
   "codemirror_mode": {
    "name": "ipython",
    "version": 3
   },
   "file_extension": ".py",
   "mimetype": "text/x-python",
   "name": "python",
   "nbconvert_exporter": "python",
   "pygments_lexer": "ipython3",
   "version": "3.11.7"
  }
 },
 "nbformat": 4,
 "nbformat_minor": 5
}
